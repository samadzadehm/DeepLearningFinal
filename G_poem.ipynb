{
 "nbformat": 4,
 "nbformat_minor": 0,
 "metadata": {
  "colab": {
   "provenance": [],
   "machine_shape": "hm",
   "gpuType": "T4"
  },
  "kernelspec": {
   "name": "python3",
   "language": "python",
   "display_name": "Python 3 (ipykernel)"
  },
  "language_info": {
   "name": "python"
  },
  "accelerator": "GPU"
 },
 "cells": [
  {
   "cell_type": "markdown",
   "source": [
    "### This file generate Hafez poems"
   ],
   "metadata": {
    "id": "fpRxK84xQHX_"
   }
  },
  {
   "cell_type": "code",
   "execution_count": 2,
   "metadata": {
    "id": "nj3sFBw_QS6P",
    "ExecuteTime": {
     "start_time": "2023-07-04T23:11:01.654554Z",
     "end_time": "2023-07-04T23:11:16.752702Z"
    }
   },
   "outputs": [],
   "source": [
    "import tensorflow as tf\n",
    "import numpy as np\n",
    "import os\n",
    "import time\n",
    "import glob"
   ]
  },
  {
   "cell_type": "markdown",
   "source": [
    "### Read the data\n",
    "\n"
   ],
   "metadata": {
    "collapsed": false,
    "id": "2fsVxCAFgjLG"
   }
  },
  {
   "cell_type": "code",
   "execution_count": 4,
   "outputs": [],
   "source": [
    "path_to_file = 'hafez-d.txt'"
   ],
   "metadata": {
    "ExecuteTime": {
     "start_time": "2023-07-04T23:09:56.075718Z",
     "end_time": "2023-07-04T23:09:56.124211Z"
    },
    "id": "Szc_nPu4gjLH"
   }
  },
  {
   "cell_type": "code",
   "execution_count": 6,
   "metadata": {
    "colab": {
     "base_uri": "https://localhost:8080/"
    },
    "outputId": "de404b71-3495-4921-9a1c-81b436390f8f",
    "id": "N9WwAa4ZQS6S",
    "ExecuteTime": {
     "start_time": "2023-07-04T23:14:24.259829Z",
     "end_time": "2023-07-04T23:14:24.443722Z"
    }
   },
   "outputs": [
    {
     "output_type": "stream",
     "name": "stdout",
     "text": [
      "Length 289560\n",
      "38 unique characters\n",
      "['\\n', ' ', 'Y', 'آ', 'ا', 'ب', 'ت', 'ث', 'ج', 'ح', 'خ', 'د', 'ذ', 'ر', 'ز', 'س', 'ش', 'ص', 'ض', 'ط', 'ظ', 'ع', 'غ', 'ف', 'ق', 'ل', 'م', 'ن', 'ه', 'و', 'ي', 'پ', 'چ', 'ژ', 'ک', 'گ', 'ی', '\\u200c']\n"
     ]
    }
   ],
   "source": [
    "\n",
    "text = open(path_to_file, 'rb').read().decode(encoding='utf-8')\n",
    "\n",
    "print (f'Length {len(text)}')\n",
    "\n",
    "execluded = '!()*-.1:=[]«»;؛,،~?؟#\\u200f\\ufeff'\n",
    "out = \"\"\n",
    "\n",
    "for char in text:\n",
    "  if char not in execluded:\n",
    "    out += char\n",
    "\n",
    "text = out\n",
    "text = text.replace(\"\\t\\t\\t\", \"\\t\")\n",
    "text = text.replace(\"\\r\\r\\n\", \"\\n\")\n",
    "text = text.replace(\"\\r\\n\",\"\\n\")\n",
    "text = text.replace(\"\\t\\n\", \"\\n\")\n",
    "text = text.replace(\"\\n\\n\", \"\\n\")\n",
    "text = '\\n'.join(line for line in text.split('\\n') if len(line) >= 7)\n",
    "\n",
    "\n",
    "vocab = sorted(set(text))\n",
    "print ('{} unique characters'.format(len(vocab)))\n",
    "\n",
    "print(vocab)"
   ]
  },
  {
   "cell_type": "code",
   "execution_count": 10,
   "metadata": {
    "colab": {
     "base_uri": "https://localhost:8080/"
    },
    "outputId": "6fbec09d-cadc-476a-8532-fe7daec3361e",
    "id": "byx0LLtEQS6S",
    "ExecuteTime": {
     "start_time": "2023-07-04T23:10:27.317216Z",
     "end_time": "2023-07-04T23:10:27.338203Z"
    }
   },
   "outputs": [
    {
     "output_type": "stream",
     "name": "stdout",
     "text": [
      "ساقی به نور باده برافروز جام ما\n",
      "مطرب بگو که کار جهان شد به کام ما\n",
      "ما در پياله عکس رخ يار ديده‌ايم\n",
      "ای بی‌خبر ز لذت شرب مدام ما\n",
      "هرگز نميرد آن که دلش زنده شد به عشق\n",
      "ثبت است بر جريده عالم دوام ما\n",
      "چندان بود کرشمه و ناز سهی قدان\n",
      "کايد به جلوه سرو صنوبرخرام ما\n",
      "ای باد اگر به گلشن احباب بگذری\n",
      "زنهار عرضه ده بر جانان پيام ما\n",
      "گو نام ما ز ياد به عمدا چه می‌بری\n",
      "\n"
     ]
    }
   ],
   "source": [
    "print(text[:349])"
   ]
  },
  {
   "cell_type": "markdown",
   "metadata": {
    "id": "RwSa6PfHQS6T"
   },
   "source": [
    "### Vectorize the text\n",
    "\n"
   ]
  },
  {
   "cell_type": "code",
   "execution_count": 11,
   "metadata": {
    "id": "4MfEBsBDQS6T",
    "ExecuteTime": {
     "start_time": "2023-07-04T23:16:52.546872Z",
     "end_time": "2023-07-04T23:16:52.618140Z"
    },
    "colab": {
     "base_uri": "https://localhost:8080/"
    },
    "outputId": "44c853c2-c1db-4133-a9eb-494dd4f6802d"
   },
   "outputs": [
    {
     "output_type": "stream",
     "name": "stdout",
     "text": [
      "[15  4 24 36  1  5 28  1 27 29]\n"
     ]
    }
   ],
   "source": [
    "char2idx = {u:i for i, u in enumerate(vocab)}\n",
    "idx2char = np.array(vocab)\n",
    "\n",
    "text_as_int = np.array([char2idx[c] for c in text])\n",
    "\n",
    "print(text_as_int[:10])"
   ]
  },
  {
   "cell_type": "code",
   "execution_count": 14,
   "metadata": {
    "colab": {
     "base_uri": "https://localhost:8080/"
    },
    "outputId": "349ef3dd-a6ff-47e1-e73a-0060d8d78cbc",
    "id": "jbYvW35vQS6T",
    "ExecuteTime": {
     "start_time": "2023-07-04T23:18:48.240087Z",
     "end_time": "2023-07-04T23:18:48.269070Z"
    }
   },
   "outputs": [
    {
     "output_type": "stream",
     "name": "stdout",
     "text": [
      "{\n",
      "  '\\n'   :      0,\n",
      "  ' '    :      1,\n",
      "  'Y'    :      2,\n",
      "  'آ'    :      3,\n",
      "  'ا'    :      4,\n",
      "  'ب'    :      5,\n",
      "  'ت'    :      6,\n",
      "  'ث'    :      7,\n",
      "  'ج'    :      8,\n",
      "  'ح'    :      9,\n",
      "  'خ'    :     10,\n",
      "  'د'    :     11,\n",
      "  'ذ'    :     12,\n",
      "  'ر'    :     13,\n",
      "  'ز'    :     14,\n",
      "  'س'    :     15,\n",
      "  'ش'    :     16,\n",
      "  'ص'    :     17,\n",
      "  'ض'    :     18,\n",
      "  'ط'    :     19,\n",
      "  ...\n",
      "}\n"
     ]
    }
   ],
   "source": [
    "print('{')\n",
    "for char,_ in zip(char2idx, range(20)):\n",
    "    print('  {:5s}  :  {:5d},'.format(repr(char), char2idx[char]))\n",
    "print('  ...\\n}')"
   ]
  },
  {
   "cell_type": "code",
   "execution_count": 17,
   "metadata": {
    "colab": {
     "base_uri": "https://localhost:8080/"
    },
    "outputId": "594c8835-a6c0-4544-a568-5e5946cd8aac",
    "id": "eElF6vOoQS6U",
    "ExecuteTime": {
     "start_time": "2023-07-04T23:19:23.061309Z",
     "end_time": "2023-07-04T23:19:23.083296Z"
    }
   },
   "outputs": [
    {
     "output_type": "stream",
     "name": "stdout",
     "text": [
      "'ساقی به نور' - [15  4 24 36  1  5 28  1 27 29 13]\n"
     ]
    }
   ],
   "source": [
    "print ('{} - {}'.format(repr(text[:11]), text_as_int[:11]))"
   ]
  },
  {
   "cell_type": "code",
   "execution_count": 18,
   "metadata": {
    "colab": {
     "base_uri": "https://localhost:8080/"
    },
    "outputId": "34b35f40-277f-4fa9-a8ea-ad59ac04637c",
    "id": "tWxcCNGAQS6V",
    "ExecuteTime": {
     "start_time": "2023-07-04T23:22:07.376835Z",
     "end_time": "2023-07-04T23:22:07.450794Z"
    }
   },
   "outputs": [
    {
     "output_type": "stream",
     "name": "stdout",
     "text": [
      "س\n",
      "ا\n",
      "ق\n",
      "ی\n",
      " \n"
     ]
    }
   ],
   "source": [
    "seq_length = 200\n",
    "examples_per_epoch = len(text)//seq_length\n",
    "\n",
    "char_dataset = tf.data.Dataset.from_tensor_slices(text_as_int)\n",
    "\n",
    "for i in char_dataset.take(5):\n",
    "  print(idx2char[i.numpy()])"
   ]
  },
  {
   "cell_type": "code",
   "execution_count": 19,
   "metadata": {
    "colab": {
     "base_uri": "https://localhost:8080/"
    },
    "outputId": "b60965a3-20ca-4dde-b3c0-8d30bb4e9f24",
    "id": "MZWs5qLOQS6W",
    "ExecuteTime": {
     "start_time": "2023-07-04T23:25:34.162979Z",
     "end_time": "2023-07-04T23:25:34.225960Z"
    }
   },
   "outputs": [
    {
     "output_type": "stream",
     "name": "stdout",
     "text": [
      "'ساقی به نور باده برافروز جام ما\\nمطرب بگو که کار جهان شد به کام ما\\nما در پياله عکس رخ يار ديده\\u200cايم\\nای بی\\u200cخبر ز لذت شرب مدام ما\\nهرگز نميرد آن که دلش زنده شد به عشق\\nثبت است بر جريده عالم دوام ما\\nچندان بود'\n",
      "' کرشمه و ناز سهی قدان\\nکايد به جلوه سرو صنوبرخرام ما\\nای باد اگر به گلشن احباب بگذری\\nزنهار عرضه ده بر جانان پيام ما\\nگو نام ما ز ياد به عمدا چه می\\u200cبری\\nخود آيد آن که ياد نياری ز نام ما\\nمستی به چشم شاهد دلب'\n",
      "'ند ما خوش است\\nزان رو سپرده\\u200cاند به مستی زمام ما\\nترسم که صرفه\\u200cای نبرد روز بازخواست\\nنان حلال شيخ ز آب حرام ما\\nحافظ ز ديده دانه اشکی همی\\u200cفشان\\nباشد که مرغ وصل کند قصد دام ما\\nدريای اخضر فلک و کشتی هلال\\nهستند'\n",
      "' غرق نعمت حاجی قوام ما\\nای فروغ ماه حسن از روی رخشان شما\\nآب روی خوبی از چاه زنخدان شما\\nعزم ديدار تو دارد جان بر لب آمده\\nبازگردد يا برآيد چيست فرمان شما\\nکس به دور نرگست طرفی نبست از عافيت\\nبه که نفروشند م'\n",
      "'ستوری به مستان شما\\nبخت خواب آلود ما بيدار خواهد شد مگر\\nزان که زد بر ديده آبی روی رخشان شما\\nبا صبا همراه بفرست از رخت گلدسته\\u200cای\\nبو که بويی بشنويم از خاک بستان شما\\nعمرتان باد و مراد ای ساقيان بزم جم\\nگر چ'\n"
     ]
    }
   ],
   "source": [
    "sequences = char_dataset.batch(seq_length+1, drop_remainder=True)\n",
    "\n",
    "for item in sequences.take(5):\n",
    "  print(repr(''.join(idx2char[item.numpy()])))"
   ]
  },
  {
   "cell_type": "code",
   "execution_count": 20,
   "metadata": {
    "id": "VVOTd__jQS6W",
    "ExecuteTime": {
     "start_time": "2023-07-04T23:27:10.924722Z",
     "end_time": "2023-07-04T23:27:10.978691Z"
    }
   },
   "outputs": [],
   "source": [
    "def split_input_target(chunk):\n",
    "    input_text = chunk[:-1]\n",
    "    target_text = chunk[1:]\n",
    "    return input_text, target_text\n",
    "\n",
    "dataset = sequences.map(split_input_target)"
   ]
  },
  {
   "cell_type": "code",
   "execution_count": 21,
   "metadata": {
    "colab": {
     "base_uri": "https://localhost:8080/"
    },
    "outputId": "a12ff8d3-e52f-4275-91c4-daeda87925ca",
    "id": "Kr-gZy_lQS6X",
    "ExecuteTime": {
     "start_time": "2023-07-04T23:27:16.107093Z",
     "end_time": "2023-07-04T23:27:16.219029Z"
    }
   },
   "outputs": [
    {
     "output_type": "stream",
     "name": "stdout",
     "text": [
      "Input data:  'ساقی به نور باده برافروز جام ما\\nمطرب بگو که کار جهان شد به کام ما\\nما در پياله عکس رخ يار ديده\\u200cايم\\nای بی\\u200cخبر ز لذت شرب مدام ما\\nهرگز نميرد آن که دلش زنده شد به عشق\\nثبت است بر جريده عالم دوام ما\\nچندان بو'\n",
      "Target data: 'اقی به نور باده برافروز جام ما\\nمطرب بگو که کار جهان شد به کام ما\\nما در پياله عکس رخ يار ديده\\u200cايم\\nای بی\\u200cخبر ز لذت شرب مدام ما\\nهرگز نميرد آن که دلش زنده شد به عشق\\nثبت است بر جريده عالم دوام ما\\nچندان بود'\n"
     ]
    }
   ],
   "source": [
    "for input_example, target_example in  dataset.take(1):\n",
    "  print ('Input data: ', repr(''.join(idx2char[input_example.numpy()])))\n",
    "  print ('Target data:', repr(''.join(idx2char[target_example.numpy()])))"
   ]
  },
  {
   "cell_type": "markdown",
   "metadata": {
    "id": "Qt8eWhMEQS6b"
   },
   "source": [
    "### Create training batches\n",
    "\n"
   ]
  },
  {
   "cell_type": "code",
   "execution_count": 24,
   "metadata": {
    "colab": {
     "base_uri": "https://localhost:8080/"
    },
    "outputId": "be83e979-63dd-4c3b-d46c-92d4d8c0ee7b",
    "id": "E679srReQS6b",
    "ExecuteTime": {
     "start_time": "2023-07-04T23:29:01.890707Z",
     "end_time": "2023-07-04T23:29:01.951341Z"
    }
   },
   "outputs": [
    {
     "output_type": "execute_result",
     "data": {
      "text/plain": [
       "<_BatchDataset element_spec=(TensorSpec(shape=(128, 200), dtype=tf.int64, name=None), TensorSpec(shape=(128, 200), dtype=tf.int64, name=None))>"
      ]
     },
     "metadata": {},
     "execution_count": 24
    }
   ],
   "source": [
    "BATCH_SIZE = 128\n",
    "steps_per_epoch = examples_per_epoch//BATCH_SIZE\n",
    "\n",
    "BUFFER_SIZE = 10000\n",
    "\n",
    "dataset = dataset.shuffle(BUFFER_SIZE).batch(BATCH_SIZE, drop_remainder=True)\n",
    "\n",
    "dataset"
   ]
  },
  {
   "cell_type": "markdown",
   "metadata": {
    "id": "PWQ5-BnZQS6c"
   },
   "source": [
    "## Build The Model"
   ]
  },
  {
   "cell_type": "code",
   "execution_count": 25,
   "metadata": {
    "id": "f4oFBzvsQS6c",
    "ExecuteTime": {
     "start_time": "2023-07-04T23:29:29.323288Z",
     "end_time": "2023-07-04T23:29:29.517810Z"
    }
   },
   "outputs": [],
   "source": [
    "vocab_size = len(vocab)\n",
    "\n",
    "embedding_dim = 256\n",
    "\n",
    "rnn_units = 1024"
   ]
  },
  {
   "cell_type": "code",
   "execution_count": 26,
   "metadata": {
    "id": "Yhyn6qjNQS6d",
    "ExecuteTime": {
     "start_time": "2023-07-04T23:30:50.009536Z",
     "end_time": "2023-07-04T23:30:50.028524Z"
    }
   },
   "outputs": [],
   "source": [
    "def build_model(vocab_size_, embedding_dim_, rnn_units_, batch_size):\n",
    "  model_ = tf.keras.Sequential([\n",
    "    tf.keras.layers.Embedding(vocab_size_, embedding_dim_,\n",
    "                              batch_input_shape=[batch_size, None]),\n",
    "    tf.keras.layers.GRU(rnn_units_,\n",
    "        return_sequences=True,\n",
    "        recurrent_initializer='glorot_uniform',\n",
    "        stateful=True),\n",
    "    tf.keras.layers.Dense(vocab_size_)\n",
    "  ])\n",
    "  return model_"
   ]
  },
  {
   "cell_type": "code",
   "execution_count": 27,
   "metadata": {
    "id": "2V2MBvJ9QS6e",
    "ExecuteTime": {
     "start_time": "2023-07-04T23:31:46.374718Z",
     "end_time": "2023-07-04T23:31:46.737425Z"
    }
   },
   "outputs": [],
   "source": [
    "model = build_model(\n",
    "  vocab_size_ = len(vocab),\n",
    "  embedding_dim_=embedding_dim,\n",
    "  rnn_units_=rnn_units,\n",
    "  batch_size=BATCH_SIZE)"
   ]
  },
  {
   "cell_type": "code",
   "execution_count": 29,
   "metadata": {
    "colab": {
     "base_uri": "https://localhost:8080/"
    },
    "outputId": "cfe3a66f-a17a-4645-862a-5b2761d81db0",
    "id": "g92fEbayQS6g",
    "ExecuteTime": {
     "start_time": "2023-07-04T23:32:14.490682Z",
     "end_time": "2023-07-04T23:32:14.553284Z"
    }
   },
   "outputs": [
    {
     "output_type": "stream",
     "name": "stdout",
     "text": [
      "Model: \"sequential\"\n",
      "_________________________________________________________________\n",
      " Layer (type)                Output Shape              Param #   \n",
      "=================================================================\n",
      " embedding (Embedding)       (128, None, 256)          9728      \n",
      "                                                                 \n",
      " gru (GRU)                   (128, None, 1024)         3938304   \n",
      "                                                                 \n",
      " dense (Dense)               (128, None, 38)           38950     \n",
      "                                                                 \n",
      "=================================================================\n",
      "Total params: 3,986,982\n",
      "Trainable params: 3,986,982\n",
      "Non-trainable params: 0\n",
      "_________________________________________________________________\n"
     ]
    }
   ],
   "source": [
    "model.summary()"
   ]
  },
  {
   "cell_type": "markdown",
   "metadata": {
    "id": "gs8C3Uv_QS6j"
   },
   "source": [
    "## Train the model"
   ]
  },
  {
   "cell_type": "code",
   "execution_count": null,
   "metadata": {
    "colab": {
     "base_uri": "https://localhost:8080/"
    },
    "outputId": "9f9eb505-cd53-416a-e21c-977599bc431f",
    "id": "XJTtnPRWQS6k",
    "ExecuteTime": {
     "start_time": "2023-07-04T23:33:10.425247Z",
     "end_time": "2023-07-04T23:33:10.473167Z"
    }
   },
   "outputs": [],
   "source": [
    "def loss(labels, logits):\n",
    "  return tf.keras.losses.sparse_categorical_crossentropy(labels, logits, from_logits=True)"
   ]
  },
  {
   "cell_type": "code",
   "execution_count": 34,
   "metadata": {
    "id": "vpjIyi4XQS6m",
    "ExecuteTime": {
     "start_time": "2023-07-04T23:33:22.629312Z",
     "end_time": "2023-07-04T23:33:22.686604Z"
    }
   },
   "outputs": [],
   "source": [
    "model.compile(\n",
    "    optimizer='adam',\n",
    "    loss = loss,\n",
    "    metrics=['accuracy'])"
   ]
  },
  {
   "cell_type": "markdown",
   "metadata": {
    "id": "b865-s_OQS6m"
   },
   "source": [
    "### Configure checkpoints"
   ]
  },
  {
   "cell_type": "code",
   "execution_count": 35,
   "metadata": {
    "id": "L1MDmuQ6QS6n",
    "ExecuteTime": {
     "start_time": "2023-07-04T23:33:35.498591Z",
     "end_time": "2023-07-04T23:33:35.522577Z"
    }
   },
   "outputs": [],
   "source": [
    "checkpoint_dir = './training_checkpoints'\n",
    "\n",
    "checkpoint_prefix = os.path.join(checkpoint_dir, \"ckpt_{epoch}\")\n",
    "\n",
    "checkpoint_callback=tf.keras.callbacks.ModelCheckpoint(\n",
    "    filepath=checkpoint_prefix,\n",
    "    save_weights_only=True)"
   ]
  },
  {
   "cell_type": "markdown",
   "metadata": {
    "id": "0uKx1EN0QS6n"
   },
   "source": [
    "### Execute the training"
   ]
  },
  {
   "cell_type": "code",
   "execution_count": 36,
   "metadata": {
    "id": "RKPIitxdQS6n",
    "ExecuteTime": {
     "start_time": "2023-07-04T23:33:41.398372Z",
     "end_time": "2023-07-04T23:33:41.425356Z"
    }
   },
   "outputs": [],
   "source": [
    "EPOCHS=400"
   ]
  },
  {
   "cell_type": "code",
   "execution_count": null,
   "metadata": {
    "colab": {
     "base_uri": "https://localhost:8080/"
    },
    "outputId": "b13e6413-ef81-4816-ee35-330244a20e2b",
    "id": "0YcWfekLQS6o"
   },
   "outputs": [
    {
     "output_type": "stream",
     "name": "stdout",
     "text": [
      "Epoch 1/400\n",
      "10/10 [==============================] - 5s 214ms/step - loss: 4.5535 - accuracy: 0.1803\n",
      "Epoch 2/400\n",
      "10/10 [==============================] - 2s 196ms/step - loss: 3.4888 - accuracy: 0.1695\n",
      "Epoch 3/400\n",
      "10/10 [==============================] - 2s 196ms/step - loss: 3.2678 - accuracy: 0.2250\n",
      "Epoch 4/400\n",
      "10/10 [==============================] - 2s 194ms/step - loss: 2.8923 - accuracy: 0.2307\n",
      "Epoch 5/400\n",
      "10/10 [==============================] - 2s 197ms/step - loss: 2.7583 - accuracy: 0.2585\n",
      "Epoch 6/400\n",
      "10/10 [==============================] - 2s 197ms/step - loss: 2.6607 - accuracy: 0.2715\n",
      "Epoch 7/400\n",
      "10/10 [==============================] - 2s 198ms/step - loss: 2.5939 - accuracy: 0.2889\n",
      "Epoch 8/400\n",
      "10/10 [==============================] - 2s 196ms/step - loss: 2.5448 - accuracy: 0.2940\n",
      "Epoch 9/400\n",
      "10/10 [==============================] - 2s 199ms/step - loss: 2.5092 - accuracy: 0.2944\n",
      "Epoch 10/400\n",
      "10/10 [==============================] - 2s 200ms/step - loss: 2.4825 - accuracy: 0.3017\n",
      "Epoch 11/400\n",
      "10/10 [==============================] - 2s 199ms/step - loss: 2.4601 - accuracy: 0.3092\n",
      "Epoch 12/400\n",
      "10/10 [==============================] - 2s 199ms/step - loss: 2.4399 - accuracy: 0.3136\n",
      "Epoch 13/400\n",
      "10/10 [==============================] - 2s 203ms/step - loss: 2.4197 - accuracy: 0.3197\n",
      "Epoch 14/400\n",
      "10/10 [==============================] - 2s 199ms/step - loss: 2.3994 - accuracy: 0.3247\n",
      "Epoch 15/400\n",
      "10/10 [==============================] - 2s 201ms/step - loss: 2.3788 - accuracy: 0.3293\n",
      "Epoch 16/400\n",
      "10/10 [==============================] - 2s 202ms/step - loss: 2.3560 - accuracy: 0.3341\n",
      "Epoch 17/400\n",
      "10/10 [==============================] - 2s 203ms/step - loss: 2.3357 - accuracy: 0.3384\n",
      "Epoch 18/400\n",
      "10/10 [==============================] - 2s 204ms/step - loss: 2.3143 - accuracy: 0.3419\n",
      "Epoch 19/400\n",
      "10/10 [==============================] - 2s 204ms/step - loss: 2.2952 - accuracy: 0.3456\n",
      "Epoch 20/400\n",
      "10/10 [==============================] - 2s 206ms/step - loss: 2.2748 - accuracy: 0.3499\n",
      "Epoch 21/400\n",
      "10/10 [==============================] - 2s 205ms/step - loss: 2.2571 - accuracy: 0.3543\n",
      "Epoch 22/400\n",
      "10/10 [==============================] - 2s 206ms/step - loss: 2.2400 - accuracy: 0.3579\n",
      "Epoch 23/400\n",
      "10/10 [==============================] - 2s 206ms/step - loss: 2.2202 - accuracy: 0.3639\n",
      "Epoch 24/400\n",
      "10/10 [==============================] - 2s 206ms/step - loss: 2.2044 - accuracy: 0.3680\n",
      "Epoch 25/400\n",
      "10/10 [==============================] - 2s 207ms/step - loss: 2.1872 - accuracy: 0.3716\n",
      "Epoch 26/400\n",
      "10/10 [==============================] - 2s 208ms/step - loss: 2.1767 - accuracy: 0.3733\n",
      "Epoch 27/400\n",
      "10/10 [==============================] - 2s 206ms/step - loss: 2.1606 - accuracy: 0.3784\n",
      "Epoch 28/400\n",
      "10/10 [==============================] - 2s 207ms/step - loss: 2.1378 - accuracy: 0.3851\n",
      "Epoch 29/400\n",
      "10/10 [==============================] - 2s 210ms/step - loss: 2.1188 - accuracy: 0.3916\n",
      "Epoch 30/400\n",
      "10/10 [==============================] - 2s 209ms/step - loss: 2.1030 - accuracy: 0.3955\n",
      "Epoch 31/400\n",
      "10/10 [==============================] - 2s 210ms/step - loss: 2.0832 - accuracy: 0.4020\n",
      "Epoch 32/400\n",
      "10/10 [==============================] - 2s 210ms/step - loss: 2.0710 - accuracy: 0.4045\n",
      "Epoch 33/400\n",
      "10/10 [==============================] - 2s 211ms/step - loss: 2.0541 - accuracy: 0.4100\n",
      "Epoch 34/400\n",
      "10/10 [==============================] - 2s 210ms/step - loss: 2.0396 - accuracy: 0.4140\n",
      "Epoch 35/400\n",
      "10/10 [==============================] - 2s 212ms/step - loss: 2.0197 - accuracy: 0.4214\n",
      "Epoch 36/400\n",
      "10/10 [==============================] - 2s 212ms/step - loss: 2.0010 - accuracy: 0.4273\n",
      "Epoch 37/400\n",
      "10/10 [==============================] - 2s 213ms/step - loss: 1.9873 - accuracy: 0.4304\n",
      "Epoch 38/400\n",
      "10/10 [==============================] - 2s 217ms/step - loss: 1.9728 - accuracy: 0.4345\n",
      "Epoch 39/400\n",
      "10/10 [==============================] - 2s 215ms/step - loss: 1.9574 - accuracy: 0.4388\n",
      "Epoch 40/400\n",
      "10/10 [==============================] - 2s 214ms/step - loss: 1.9392 - accuracy: 0.4433\n",
      "Epoch 41/400\n",
      "10/10 [==============================] - 2s 216ms/step - loss: 1.9243 - accuracy: 0.4480\n",
      "Epoch 42/400\n",
      "10/10 [==============================] - 2s 214ms/step - loss: 1.9086 - accuracy: 0.4523\n",
      "Epoch 43/400\n",
      "10/10 [==============================] - 2s 228ms/step - loss: 1.8952 - accuracy: 0.4560\n",
      "Epoch 44/400\n",
      "10/10 [==============================] - 2s 214ms/step - loss: 1.8774 - accuracy: 0.4612\n",
      "Epoch 45/400\n",
      "10/10 [==============================] - 2s 214ms/step - loss: 1.8631 - accuracy: 0.4655\n",
      "Epoch 46/400\n",
      "10/10 [==============================] - 2s 218ms/step - loss: 1.8446 - accuracy: 0.4698\n",
      "Epoch 47/400\n",
      "10/10 [==============================] - 2s 220ms/step - loss: 1.8338 - accuracy: 0.4726\n",
      "Epoch 48/400\n",
      "10/10 [==============================] - 2s 223ms/step - loss: 1.8150 - accuracy: 0.4780\n",
      "Epoch 49/400\n",
      "10/10 [==============================] - 2s 221ms/step - loss: 1.7996 - accuracy: 0.4822\n",
      "Epoch 50/400\n",
      "10/10 [==============================] - 2s 218ms/step - loss: 1.7816 - accuracy: 0.4872\n",
      "Epoch 51/400\n",
      "10/10 [==============================] - 2s 218ms/step - loss: 1.7687 - accuracy: 0.4910\n",
      "Epoch 52/400\n",
      "10/10 [==============================] - 2s 221ms/step - loss: 1.7537 - accuracy: 0.4949\n",
      "Epoch 53/400\n",
      "10/10 [==============================] - 2s 221ms/step - loss: 1.7370 - accuracy: 0.4993\n",
      "Epoch 54/400\n",
      "10/10 [==============================] - 2s 223ms/step - loss: 1.7236 - accuracy: 0.5026\n",
      "Epoch 55/400\n",
      "10/10 [==============================] - 2s 221ms/step - loss: 1.7075 - accuracy: 0.5067\n",
      "Epoch 56/400\n",
      "10/10 [==============================] - 2s 221ms/step - loss: 1.6941 - accuracy: 0.5110\n",
      "Epoch 57/400\n",
      "10/10 [==============================] - 2s 222ms/step - loss: 1.6781 - accuracy: 0.5144\n",
      "Epoch 58/400\n",
      "10/10 [==============================] - 2s 221ms/step - loss: 1.6589 - accuracy: 0.5200\n",
      "Epoch 59/400\n",
      "10/10 [==============================] - 2s 220ms/step - loss: 1.6440 - accuracy: 0.5251\n",
      "Epoch 60/400\n",
      "10/10 [==============================] - 2s 219ms/step - loss: 1.6253 - accuracy: 0.5299\n",
      "Epoch 61/400\n",
      "10/10 [==============================] - 2s 219ms/step - loss: 1.6084 - accuracy: 0.5344\n",
      "Epoch 62/400\n",
      "10/10 [==============================] - 2s 219ms/step - loss: 1.5912 - accuracy: 0.5394\n",
      "Epoch 63/400\n",
      "10/10 [==============================] - 2s 218ms/step - loss: 1.5739 - accuracy: 0.5442\n",
      "Epoch 64/400\n",
      "10/10 [==============================] - 2s 218ms/step - loss: 1.5593 - accuracy: 0.5469\n",
      "Epoch 65/400\n",
      "10/10 [==============================] - 2s 229ms/step - loss: 1.5409 - accuracy: 0.5523\n",
      "Epoch 66/400\n",
      "10/10 [==============================] - 2s 217ms/step - loss: 1.5203 - accuracy: 0.5586\n",
      "Epoch 67/400\n",
      "10/10 [==============================] - 2s 218ms/step - loss: 1.5012 - accuracy: 0.5635\n",
      "Epoch 68/400\n",
      "10/10 [==============================] - 2s 218ms/step - loss: 1.4812 - accuracy: 0.5699\n",
      "Epoch 69/400\n",
      "10/10 [==============================] - 2s 215ms/step - loss: 1.4647 - accuracy: 0.5744\n",
      "Epoch 70/400\n",
      "10/10 [==============================] - 2s 216ms/step - loss: 1.4443 - accuracy: 0.5797\n",
      "Epoch 71/400\n",
      "10/10 [==============================] - 2s 215ms/step - loss: 1.4232 - accuracy: 0.5877\n",
      "Epoch 72/400\n",
      "10/10 [==============================] - 2s 216ms/step - loss: 1.4020 - accuracy: 0.5928\n",
      "Epoch 73/400\n",
      "10/10 [==============================] - 2s 218ms/step - loss: 1.3832 - accuracy: 0.5978\n",
      "Epoch 74/400\n",
      "10/10 [==============================] - 2s 217ms/step - loss: 1.3574 - accuracy: 0.6068\n",
      "Epoch 75/400\n",
      "10/10 [==============================] - 2s 218ms/step - loss: 1.3338 - accuracy: 0.6131\n",
      "Epoch 76/400\n",
      "10/10 [==============================] - 2s 216ms/step - loss: 1.3119 - accuracy: 0.6194\n",
      "Epoch 77/400\n",
      "10/10 [==============================] - 2s 216ms/step - loss: 1.2872 - accuracy: 0.6280\n",
      "Epoch 78/400\n",
      "10/10 [==============================] - 2s 218ms/step - loss: 1.2619 - accuracy: 0.6356\n",
      "Epoch 79/400\n",
      "10/10 [==============================] - 2s 216ms/step - loss: 1.2371 - accuracy: 0.6430\n",
      "Epoch 80/400\n",
      "10/10 [==============================] - 2s 218ms/step - loss: 1.2116 - accuracy: 0.6515\n",
      "Epoch 81/400\n",
      "10/10 [==============================] - 2s 216ms/step - loss: 1.1883 - accuracy: 0.6583\n",
      "Epoch 82/400\n",
      "10/10 [==============================] - 2s 219ms/step - loss: 1.1589 - accuracy: 0.6687\n",
      "Epoch 83/400\n",
      "10/10 [==============================] - 2s 217ms/step - loss: 1.1323 - accuracy: 0.6774\n",
      "Epoch 84/400\n",
      "10/10 [==============================] - 2s 218ms/step - loss: 1.1064 - accuracy: 0.6852\n",
      "Epoch 85/400\n",
      "10/10 [==============================] - 2s 217ms/step - loss: 1.0748 - accuracy: 0.6956\n",
      "Epoch 86/400\n",
      "10/10 [==============================] - 2s 218ms/step - loss: 1.0499 - accuracy: 0.7040\n",
      "Epoch 87/400\n",
      "10/10 [==============================] - 2s 217ms/step - loss: 1.0219 - accuracy: 0.7133\n",
      "Epoch 88/400\n",
      "10/10 [==============================] - 2s 219ms/step - loss: 0.9868 - accuracy: 0.7261\n",
      "Epoch 89/400\n",
      "10/10 [==============================] - 2s 218ms/step - loss: 0.9558 - accuracy: 0.7383\n",
      "Epoch 90/400\n",
      "10/10 [==============================] - 2s 219ms/step - loss: 0.9252 - accuracy: 0.7485\n",
      "Epoch 91/400\n",
      "10/10 [==============================] - 2s 218ms/step - loss: 0.9033 - accuracy: 0.7552\n",
      "Epoch 92/400\n",
      "10/10 [==============================] - 2s 218ms/step - loss: 0.8663 - accuracy: 0.7700\n",
      "Epoch 93/400\n",
      "10/10 [==============================] - 2s 219ms/step - loss: 0.8347 - accuracy: 0.7817\n",
      "Epoch 94/400\n",
      "10/10 [==============================] - 2s 220ms/step - loss: 0.8003 - accuracy: 0.7938\n",
      "Epoch 95/400\n",
      "10/10 [==============================] - 2s 218ms/step - loss: 0.7739 - accuracy: 0.8040\n",
      "Epoch 96/400\n",
      "10/10 [==============================] - 2s 219ms/step - loss: 0.7451 - accuracy: 0.8134\n",
      "Epoch 97/400\n",
      "10/10 [==============================] - 2s 219ms/step - loss: 0.7110 - accuracy: 0.8262\n",
      "Epoch 98/400\n",
      "10/10 [==============================] - 2s 219ms/step - loss: 0.6802 - accuracy: 0.8378\n",
      "Epoch 99/400\n",
      "10/10 [==============================] - 2s 220ms/step - loss: 0.6595 - accuracy: 0.8453\n",
      "Epoch 100/400\n",
      "10/10 [==============================] - 2s 220ms/step - loss: 0.6277 - accuracy: 0.8568\n",
      "Epoch 101/400\n",
      "10/10 [==============================] - 2s 217ms/step - loss: 0.5945 - accuracy: 0.8693\n",
      "Epoch 102/400\n",
      "10/10 [==============================] - 2s 220ms/step - loss: 0.5695 - accuracy: 0.8779\n",
      "Epoch 103/400\n",
      "10/10 [==============================] - 2s 219ms/step - loss: 0.5450 - accuracy: 0.8874\n",
      "Epoch 104/400\n",
      "10/10 [==============================] - 2s 217ms/step - loss: 0.5176 - accuracy: 0.8969\n",
      "Epoch 105/400\n",
      "10/10 [==============================] - 2s 220ms/step - loss: 0.4922 - accuracy: 0.9052\n",
      "Epoch 106/400\n",
      "10/10 [==============================] - 2s 218ms/step - loss: 0.4728 - accuracy: 0.9122\n",
      "Epoch 107/400\n",
      "10/10 [==============================] - 2s 219ms/step - loss: 0.4455 - accuracy: 0.9214\n",
      "Epoch 108/400\n",
      "10/10 [==============================] - 2s 218ms/step - loss: 0.4265 - accuracy: 0.9274\n",
      "Epoch 109/400\n",
      "10/10 [==============================] - 2s 219ms/step - loss: 0.4071 - accuracy: 0.9332\n",
      "Epoch 110/400\n",
      "10/10 [==============================] - 2s 218ms/step - loss: 0.3877 - accuracy: 0.9388\n",
      "Epoch 111/400\n",
      "10/10 [==============================] - 2s 220ms/step - loss: 0.3700 - accuracy: 0.9438\n",
      "Epoch 112/400\n",
      "10/10 [==============================] - 2s 221ms/step - loss: 0.3533 - accuracy: 0.9479\n",
      "Epoch 113/400\n",
      "10/10 [==============================] - 2s 217ms/step - loss: 0.3373 - accuracy: 0.9522\n",
      "Epoch 114/400\n",
      "10/10 [==============================] - 2s 219ms/step - loss: 0.3236 - accuracy: 0.9551\n",
      "Epoch 115/400\n",
      "10/10 [==============================] - 2s 219ms/step - loss: 0.3109 - accuracy: 0.9580\n",
      "Epoch 116/400\n",
      "10/10 [==============================] - 2s 220ms/step - loss: 0.2997 - accuracy: 0.9602\n",
      "Epoch 117/400\n",
      "10/10 [==============================] - 2s 219ms/step - loss: 0.2877 - accuracy: 0.9623\n",
      "Epoch 118/400\n",
      "10/10 [==============================] - 2s 218ms/step - loss: 0.2811 - accuracy: 0.9637\n",
      "Epoch 119/400\n",
      "10/10 [==============================] - 2s 218ms/step - loss: 0.2703 - accuracy: 0.9654\n",
      "Epoch 120/400\n",
      "10/10 [==============================] - 2s 219ms/step - loss: 0.2615 - accuracy: 0.9663\n",
      "Epoch 121/400\n",
      "10/10 [==============================] - 2s 222ms/step - loss: 0.2565 - accuracy: 0.9673\n",
      "Epoch 122/400\n",
      "10/10 [==============================] - 2s 220ms/step - loss: 0.2474 - accuracy: 0.9686\n",
      "Epoch 123/400\n",
      "10/10 [==============================] - 2s 219ms/step - loss: 0.2400 - accuracy: 0.9691\n",
      "Epoch 124/400\n",
      "10/10 [==============================] - 2s 219ms/step - loss: 0.2337 - accuracy: 0.9697\n",
      "Epoch 125/400\n",
      "10/10 [==============================] - 2s 217ms/step - loss: 0.2298 - accuracy: 0.9699\n",
      "Epoch 126/400\n",
      "10/10 [==============================] - 2s 220ms/step - loss: 0.2242 - accuracy: 0.9712\n",
      "Epoch 127/400\n",
      "10/10 [==============================] - 2s 219ms/step - loss: 0.2178 - accuracy: 0.9714\n",
      "Epoch 128/400\n",
      "10/10 [==============================] - 2s 217ms/step - loss: 0.2138 - accuracy: 0.9717\n",
      "Epoch 129/400\n",
      "10/10 [==============================] - 2s 217ms/step - loss: 0.2113 - accuracy: 0.9722\n",
      "Epoch 130/400\n",
      "10/10 [==============================] - 2s 220ms/step - loss: 0.2062 - accuracy: 0.9726\n",
      "Epoch 131/400\n",
      "10/10 [==============================] - 2s 216ms/step - loss: 0.2040 - accuracy: 0.9725\n",
      "Epoch 132/400\n",
      "10/10 [==============================] - 2s 220ms/step - loss: 0.2002 - accuracy: 0.9731\n",
      "Epoch 133/400\n",
      "10/10 [==============================] - 2s 219ms/step - loss: 0.1941 - accuracy: 0.9737\n",
      "Epoch 134/400\n",
      "10/10 [==============================] - 2s 217ms/step - loss: 0.1904 - accuracy: 0.9739\n",
      "Epoch 135/400\n",
      "10/10 [==============================] - 2s 218ms/step - loss: 0.1892 - accuracy: 0.9738\n",
      "Epoch 136/400\n",
      "10/10 [==============================] - 2s 219ms/step - loss: 0.1880 - accuracy: 0.9739\n",
      "Epoch 137/400\n",
      "10/10 [==============================] - 2s 219ms/step - loss: 0.1834 - accuracy: 0.9742\n",
      "Epoch 138/400\n",
      "10/10 [==============================] - 2s 216ms/step - loss: 0.1803 - accuracy: 0.9746\n",
      "Epoch 139/400\n",
      "10/10 [==============================] - 2s 219ms/step - loss: 0.1810 - accuracy: 0.9748\n",
      "Epoch 140/400\n",
      "10/10 [==============================] - 2s 218ms/step - loss: 0.1785 - accuracy: 0.9749\n",
      "Epoch 141/400\n",
      "10/10 [==============================] - 2s 219ms/step - loss: 0.1768 - accuracy: 0.9750\n",
      "Epoch 142/400\n",
      "10/10 [==============================] - 2s 218ms/step - loss: 0.1726 - accuracy: 0.9756\n",
      "Epoch 143/400\n",
      "10/10 [==============================] - 2s 218ms/step - loss: 0.1730 - accuracy: 0.9753\n",
      "Epoch 144/400\n",
      "10/10 [==============================] - 2s 217ms/step - loss: 0.1715 - accuracy: 0.9757\n",
      "Epoch 145/400\n",
      "10/10 [==============================] - 2s 219ms/step - loss: 0.1668 - accuracy: 0.9760\n",
      "Epoch 146/400\n",
      "10/10 [==============================] - 2s 218ms/step - loss: 0.1669 - accuracy: 0.9761\n",
      "Epoch 147/400\n",
      "10/10 [==============================] - 2s 218ms/step - loss: 0.1666 - accuracy: 0.9760\n",
      "Epoch 148/400\n",
      "10/10 [==============================] - 2s 220ms/step - loss: 0.1625 - accuracy: 0.9766\n",
      "Epoch 149/400\n",
      "10/10 [==============================] - 2s 219ms/step - loss: 0.1615 - accuracy: 0.9764\n",
      "Epoch 150/400\n",
      "10/10 [==============================] - 2s 218ms/step - loss: 0.1617 - accuracy: 0.9766\n",
      "Epoch 151/400\n",
      "10/10 [==============================] - 2s 217ms/step - loss: 0.1589 - accuracy: 0.9767\n",
      "Epoch 152/400\n",
      "10/10 [==============================] - 2s 219ms/step - loss: 0.1572 - accuracy: 0.9769\n",
      "Epoch 153/400\n",
      "10/10 [==============================] - 2s 218ms/step - loss: 0.1576 - accuracy: 0.9768\n",
      "Epoch 154/400\n",
      "10/10 [==============================] - 2s 217ms/step - loss: 0.1569 - accuracy: 0.9768\n",
      "Epoch 155/400\n",
      "10/10 [==============================] - 2s 219ms/step - loss: 0.1553 - accuracy: 0.9769\n",
      "Epoch 156/400\n",
      "10/10 [==============================] - 2s 219ms/step - loss: 0.1539 - accuracy: 0.9771\n",
      "Epoch 157/400\n",
      "10/10 [==============================] - 2s 220ms/step - loss: 0.1517 - accuracy: 0.9775\n",
      "Epoch 158/400\n",
      "10/10 [==============================] - 2s 218ms/step - loss: 0.1521 - accuracy: 0.9774\n",
      "Epoch 159/400\n",
      "10/10 [==============================] - 2s 221ms/step - loss: 0.1489 - accuracy: 0.9776\n",
      "Epoch 160/400\n",
      "10/10 [==============================] - 2s 219ms/step - loss: 0.1473 - accuracy: 0.9777\n",
      "Epoch 161/400\n",
      "10/10 [==============================] - 2s 219ms/step - loss: 0.1465 - accuracy: 0.9782\n",
      "Epoch 162/400\n",
      "10/10 [==============================] - 2s 218ms/step - loss: 0.1470 - accuracy: 0.9780\n",
      "Epoch 163/400\n",
      "10/10 [==============================] - 2s 218ms/step - loss: 0.1465 - accuracy: 0.9782\n",
      "Epoch 164/400\n",
      "10/10 [==============================] - 2s 217ms/step - loss: 0.1459 - accuracy: 0.9781\n",
      "Epoch 165/400\n",
      "10/10 [==============================] - 2s 219ms/step - loss: 0.1424 - accuracy: 0.9785\n",
      "Epoch 166/400\n",
      "10/10 [==============================] - 2s 219ms/step - loss: 0.1422 - accuracy: 0.9789\n",
      "Epoch 167/400\n",
      "10/10 [==============================] - 2s 216ms/step - loss: 0.1411 - accuracy: 0.9787\n",
      "Epoch 168/400\n",
      "10/10 [==============================] - 2s 221ms/step - loss: 0.1401 - accuracy: 0.9790\n",
      "Epoch 169/400\n",
      "10/10 [==============================] - 2s 219ms/step - loss: 0.1398 - accuracy: 0.9788\n",
      "Epoch 170/400\n",
      "10/10 [==============================] - 2s 217ms/step - loss: 0.1377 - accuracy: 0.9787\n",
      "Epoch 171/400\n",
      "10/10 [==============================] - 2s 220ms/step - loss: 0.1397 - accuracy: 0.9789\n",
      "Epoch 172/400\n",
      "10/10 [==============================] - 2s 219ms/step - loss: 0.1377 - accuracy: 0.9791\n",
      "Epoch 173/400\n",
      "10/10 [==============================] - 2s 218ms/step - loss: 0.1371 - accuracy: 0.9792\n",
      "Epoch 174/400\n",
      "10/10 [==============================] - 2s 221ms/step - loss: 0.1355 - accuracy: 0.9793\n",
      "Epoch 175/400\n",
      "10/10 [==============================] - 2s 220ms/step - loss: 0.1371 - accuracy: 0.9793\n",
      "Epoch 176/400\n",
      "10/10 [==============================] - 2s 217ms/step - loss: 0.1357 - accuracy: 0.9793\n",
      "Epoch 177/400\n",
      "10/10 [==============================] - 2s 220ms/step - loss: 0.1344 - accuracy: 0.9799\n",
      "Epoch 178/400\n",
      "10/10 [==============================] - 2s 221ms/step - loss: 0.1331 - accuracy: 0.9794\n",
      "Epoch 179/400\n",
      "10/10 [==============================] - 2s 219ms/step - loss: 0.1309 - accuracy: 0.9797\n",
      "Epoch 180/400\n",
      "10/10 [==============================] - 2s 220ms/step - loss: 0.1323 - accuracy: 0.9798\n",
      "Epoch 181/400\n",
      "10/10 [==============================] - 2s 219ms/step - loss: 0.1311 - accuracy: 0.9797\n",
      "Epoch 182/400\n",
      "10/10 [==============================] - 2s 220ms/step - loss: 0.1297 - accuracy: 0.9798\n",
      "Epoch 183/400\n",
      "10/10 [==============================] - 2s 219ms/step - loss: 0.1291 - accuracy: 0.9801\n",
      "Epoch 184/400\n",
      "10/10 [==============================] - 2s 219ms/step - loss: 0.1300 - accuracy: 0.9799\n",
      "Epoch 185/400\n",
      "10/10 [==============================] - 2s 219ms/step - loss: 0.1297 - accuracy: 0.9800\n",
      "Epoch 186/400\n",
      "10/10 [==============================] - 2s 216ms/step - loss: 0.1281 - accuracy: 0.9801\n",
      "Epoch 187/400\n",
      "10/10 [==============================] - 2s 221ms/step - loss: 0.1275 - accuracy: 0.9800\n",
      "Epoch 188/400\n",
      "10/10 [==============================] - 2s 219ms/step - loss: 0.1262 - accuracy: 0.9805\n",
      "Epoch 189/400\n",
      "10/10 [==============================] - 2s 216ms/step - loss: 0.1258 - accuracy: 0.9804\n",
      "Epoch 190/400\n",
      "10/10 [==============================] - 2s 220ms/step - loss: 0.1256 - accuracy: 0.9804\n",
      "Epoch 191/400\n",
      "10/10 [==============================] - 2s 221ms/step - loss: 0.1245 - accuracy: 0.9806\n",
      "Epoch 192/400\n",
      "10/10 [==============================] - 2s 217ms/step - loss: 0.1243 - accuracy: 0.9805\n",
      "Epoch 193/400\n",
      "10/10 [==============================] - 2s 219ms/step - loss: 0.1238 - accuracy: 0.9807\n",
      "Epoch 194/400\n",
      "10/10 [==============================] - 2s 219ms/step - loss: 0.1235 - accuracy: 0.9808\n",
      "Epoch 195/400\n",
      "10/10 [==============================] - 2s 217ms/step - loss: 0.1234 - accuracy: 0.9807\n",
      "Epoch 196/400\n",
      "10/10 [==============================] - 2s 220ms/step - loss: 0.1252 - accuracy: 0.9803\n",
      "Epoch 197/400\n",
      "10/10 [==============================] - 2s 217ms/step - loss: 0.1228 - accuracy: 0.9808\n",
      "Epoch 198/400\n",
      "10/10 [==============================] - 2s 218ms/step - loss: 0.1209 - accuracy: 0.9810\n",
      "Epoch 199/400\n",
      "10/10 [==============================] - 2s 218ms/step - loss: 0.1223 - accuracy: 0.9808\n",
      "Epoch 200/400\n",
      "10/10 [==============================] - 2s 216ms/step - loss: 0.1210 - accuracy: 0.9809\n",
      "Epoch 201/400\n",
      "10/10 [==============================] - 2s 218ms/step - loss: 0.1198 - accuracy: 0.9810\n",
      "Epoch 202/400\n",
      "10/10 [==============================] - 2s 220ms/step - loss: 0.1191 - accuracy: 0.9812\n",
      "Epoch 203/400\n",
      "10/10 [==============================] - 2s 219ms/step - loss: 0.1184 - accuracy: 0.9814\n",
      "Epoch 204/400\n",
      "10/10 [==============================] - 2s 220ms/step - loss: 0.1178 - accuracy: 0.9812\n",
      "Epoch 205/400\n",
      "10/10 [==============================] - 2s 219ms/step - loss: 0.1194 - accuracy: 0.9811\n",
      "Epoch 206/400\n",
      "10/10 [==============================] - 2s 217ms/step - loss: 0.1188 - accuracy: 0.9815\n",
      "Epoch 207/400\n",
      "10/10 [==============================] - 2s 219ms/step - loss: 0.1178 - accuracy: 0.9813\n",
      "Epoch 208/400\n",
      "10/10 [==============================] - 2s 220ms/step - loss: 0.1180 - accuracy: 0.9813\n",
      "Epoch 209/400\n",
      "10/10 [==============================] - 2s 219ms/step - loss: 0.1169 - accuracy: 0.9815\n",
      "Epoch 210/400\n",
      "10/10 [==============================] - 2s 219ms/step - loss: 0.1151 - accuracy: 0.9816\n",
      "Epoch 211/400\n",
      "10/10 [==============================] - 2s 220ms/step - loss: 0.1159 - accuracy: 0.9816\n",
      "Epoch 212/400\n",
      "10/10 [==============================] - 2s 219ms/step - loss: 0.1158 - accuracy: 0.9815\n",
      "Epoch 213/400\n",
      "10/10 [==============================] - 2s 221ms/step - loss: 0.1168 - accuracy: 0.9815\n",
      "Epoch 214/400\n",
      "10/10 [==============================] - 2s 219ms/step - loss: 0.1140 - accuracy: 0.9818\n",
      "Epoch 215/400\n",
      "10/10 [==============================] - 2s 217ms/step - loss: 0.1152 - accuracy: 0.9815\n",
      "Epoch 216/400\n",
      "10/10 [==============================] - 2s 220ms/step - loss: 0.1119 - accuracy: 0.9821\n",
      "Epoch 217/400\n",
      "10/10 [==============================] - 2s 219ms/step - loss: 0.1137 - accuracy: 0.9816\n",
      "Epoch 218/400\n",
      "10/10 [==============================] - 2s 219ms/step - loss: 0.1136 - accuracy: 0.9818\n",
      "Epoch 219/400\n",
      "10/10 [==============================] - 2s 218ms/step - loss: 0.1134 - accuracy: 0.9817\n",
      "Epoch 220/400\n",
      "10/10 [==============================] - 2s 218ms/step - loss: 0.1132 - accuracy: 0.9821\n",
      "Epoch 221/400\n",
      "10/10 [==============================] - 2s 219ms/step - loss: 0.1126 - accuracy: 0.9820\n",
      "Epoch 222/400\n",
      "10/10 [==============================] - 2s 219ms/step - loss: 0.1125 - accuracy: 0.9819\n",
      "Epoch 223/400\n",
      "10/10 [==============================] - 2s 221ms/step - loss: 0.1127 - accuracy: 0.9820\n",
      "Epoch 224/400\n",
      "10/10 [==============================] - 2s 218ms/step - loss: 0.1109 - accuracy: 0.9820\n",
      "Epoch 225/400\n",
      "10/10 [==============================] - 2s 220ms/step - loss: 0.1114 - accuracy: 0.9824\n",
      "Epoch 226/400\n",
      "10/10 [==============================] - 2s 220ms/step - loss: 0.1088 - accuracy: 0.9822\n",
      "Epoch 227/400\n",
      "10/10 [==============================] - 2s 218ms/step - loss: 0.1099 - accuracy: 0.9824\n",
      "Epoch 228/400\n",
      "10/10 [==============================] - 2s 219ms/step - loss: 0.1101 - accuracy: 0.9823\n",
      "Epoch 229/400\n",
      "10/10 [==============================] - 2s 221ms/step - loss: 0.1097 - accuracy: 0.9823\n",
      "Epoch 230/400\n",
      "10/10 [==============================] - 2s 221ms/step - loss: 0.1089 - accuracy: 0.9825\n",
      "Epoch 231/400\n",
      "10/10 [==============================] - 2s 218ms/step - loss: 0.1092 - accuracy: 0.9824\n",
      "Epoch 232/400\n",
      "10/10 [==============================] - 2s 220ms/step - loss: 0.1089 - accuracy: 0.9824\n",
      "Epoch 233/400\n",
      "10/10 [==============================] - 2s 222ms/step - loss: 0.1089 - accuracy: 0.9825\n",
      "Epoch 234/400\n",
      "10/10 [==============================] - 2s 219ms/step - loss: 0.1084 - accuracy: 0.9824\n",
      "Epoch 235/400\n",
      "10/10 [==============================] - 2s 220ms/step - loss: 0.1075 - accuracy: 0.9827\n",
      "Epoch 236/400\n",
      "10/10 [==============================] - 2s 219ms/step - loss: 0.1066 - accuracy: 0.9827\n",
      "Epoch 237/400\n",
      "10/10 [==============================] - 2s 219ms/step - loss: 0.1062 - accuracy: 0.9828\n",
      "Epoch 238/400\n",
      "10/10 [==============================] - 2s 218ms/step - loss: 0.1056 - accuracy: 0.9829\n",
      "Epoch 239/400\n",
      "10/10 [==============================] - 2s 220ms/step - loss: 0.1053 - accuracy: 0.9829\n",
      "Epoch 240/400\n",
      "10/10 [==============================] - 2s 217ms/step - loss: 0.1077 - accuracy: 0.9825\n",
      "Epoch 241/400\n",
      "10/10 [==============================] - 2s 220ms/step - loss: 0.1056 - accuracy: 0.9831\n",
      "Epoch 242/400\n",
      "10/10 [==============================] - 2s 221ms/step - loss: 0.1069 - accuracy: 0.9826\n",
      "Epoch 243/400\n",
      "10/10 [==============================] - 2s 217ms/step - loss: 0.1061 - accuracy: 0.9830\n",
      "Epoch 244/400\n",
      "10/10 [==============================] - 2s 220ms/step - loss: 0.1057 - accuracy: 0.9828\n",
      "Epoch 245/400\n",
      "10/10 [==============================] - 2s 219ms/step - loss: 0.1054 - accuracy: 0.9828\n",
      "Epoch 246/400\n",
      "10/10 [==============================] - 2s 217ms/step - loss: 0.1035 - accuracy: 0.9828\n",
      "Epoch 247/400\n",
      "10/10 [==============================] - 2s 221ms/step - loss: 0.1060 - accuracy: 0.9827\n",
      "Epoch 248/400\n",
      "10/10 [==============================] - 2s 219ms/step - loss: 0.1055 - accuracy: 0.9829\n",
      "Epoch 249/400\n",
      "10/10 [==============================] - 2s 218ms/step - loss: 0.1038 - accuracy: 0.9830\n",
      "Epoch 250/400\n",
      "10/10 [==============================] - 2s 220ms/step - loss: 0.1019 - accuracy: 0.9832\n",
      "Epoch 251/400\n",
      "10/10 [==============================] - 2s 219ms/step - loss: 0.1046 - accuracy: 0.9827\n",
      "Epoch 252/400\n",
      "10/10 [==============================] - 2s 220ms/step - loss: 0.1025 - accuracy: 0.9831\n",
      "Epoch 253/400\n",
      "10/10 [==============================] - 2s 218ms/step - loss: 0.1034 - accuracy: 0.9831\n",
      "Epoch 254/400\n",
      "10/10 [==============================] - 2s 218ms/step - loss: 0.1042 - accuracy: 0.9829\n",
      "Epoch 255/400\n",
      "10/10 [==============================] - 2s 221ms/step - loss: 0.1020 - accuracy: 0.9832\n",
      "Epoch 256/400\n",
      "10/10 [==============================] - 2s 219ms/step - loss: 0.1026 - accuracy: 0.9833\n",
      "Epoch 257/400\n",
      "10/10 [==============================] - 2s 217ms/step - loss: 0.1019 - accuracy: 0.9833\n",
      "Epoch 258/400\n",
      "10/10 [==============================] - 2s 218ms/step - loss: 0.1021 - accuracy: 0.9834\n",
      "Epoch 259/400\n",
      "10/10 [==============================] - 2s 220ms/step - loss: 0.1004 - accuracy: 0.9834\n",
      "Epoch 260/400\n",
      "10/10 [==============================] - 2s 220ms/step - loss: 0.1026 - accuracy: 0.9834\n",
      "Epoch 261/400\n",
      "10/10 [==============================] - 2s 219ms/step - loss: 0.1011 - accuracy: 0.9832\n",
      "Epoch 262/400\n",
      "10/10 [==============================] - 2s 217ms/step - loss: 0.1006 - accuracy: 0.9834\n",
      "Epoch 263/400\n",
      "10/10 [==============================] - 2s 219ms/step - loss: 0.1015 - accuracy: 0.9834\n",
      "Epoch 264/400\n",
      "10/10 [==============================] - 2s 218ms/step - loss: 0.1007 - accuracy: 0.9837\n",
      "Epoch 265/400\n",
      "10/10 [==============================] - 2s 220ms/step - loss: 0.0992 - accuracy: 0.9836\n",
      "Epoch 266/400\n",
      "10/10 [==============================] - 2s 221ms/step - loss: 0.0993 - accuracy: 0.9834\n",
      "Epoch 267/400\n",
      "10/10 [==============================] - 2s 218ms/step - loss: 0.1003 - accuracy: 0.9832\n",
      "Epoch 268/400\n",
      "10/10 [==============================] - 2s 219ms/step - loss: 0.0999 - accuracy: 0.9834\n",
      "Epoch 269/400\n",
      "10/10 [==============================] - 2s 219ms/step - loss: 0.0988 - accuracy: 0.9835\n",
      "Epoch 270/400\n",
      "10/10 [==============================] - 2s 219ms/step - loss: 0.0993 - accuracy: 0.9836\n",
      "Epoch 271/400\n",
      "10/10 [==============================] - 2s 220ms/step - loss: 0.0991 - accuracy: 0.9834\n",
      "Epoch 272/400\n",
      "10/10 [==============================] - 2s 220ms/step - loss: 0.0983 - accuracy: 0.9837\n",
      "Epoch 273/400\n",
      "10/10 [==============================] - 2s 219ms/step - loss: 0.0975 - accuracy: 0.9837\n",
      "Epoch 274/400\n",
      "10/10 [==============================] - 2s 217ms/step - loss: 0.0983 - accuracy: 0.9837\n",
      "Epoch 275/400\n",
      "10/10 [==============================] - 2s 218ms/step - loss: 0.0988 - accuracy: 0.9838\n",
      "Epoch 276/400\n",
      "10/10 [==============================] - 2s 218ms/step - loss: 0.0975 - accuracy: 0.9838\n",
      "Epoch 277/400\n",
      "10/10 [==============================] - 2s 222ms/step - loss: 0.0951 - accuracy: 0.9838\n",
      "Epoch 278/400\n",
      "10/10 [==============================] - 2s 220ms/step - loss: 0.0966 - accuracy: 0.9840\n",
      "Epoch 279/400\n",
      "10/10 [==============================] - 2s 220ms/step - loss: 0.0954 - accuracy: 0.9838\n",
      "Epoch 280/400\n",
      "10/10 [==============================] - 2s 218ms/step - loss: 0.0964 - accuracy: 0.9836\n",
      "Epoch 281/400\n",
      "10/10 [==============================] - 2s 219ms/step - loss: 0.0958 - accuracy: 0.9840\n",
      "Epoch 282/400\n",
      "10/10 [==============================] - 2s 222ms/step - loss: 0.0954 - accuracy: 0.9842\n",
      "Epoch 283/400\n",
      "10/10 [==============================] - 2s 219ms/step - loss: 0.0954 - accuracy: 0.9839\n",
      "Epoch 284/400\n",
      "10/10 [==============================] - 2s 220ms/step - loss: 0.0951 - accuracy: 0.9841\n",
      "Epoch 285/400\n",
      "10/10 [==============================] - 2s 217ms/step - loss: 0.0961 - accuracy: 0.9840\n",
      "Epoch 286/400\n",
      "10/10 [==============================] - 2s 216ms/step - loss: 0.0956 - accuracy: 0.9841\n",
      "Epoch 287/400\n",
      "10/10 [==============================] - 2s 220ms/step - loss: 0.0948 - accuracy: 0.9841\n",
      "Epoch 288/400\n",
      "10/10 [==============================] - 2s 219ms/step - loss: 0.0953 - accuracy: 0.9841\n",
      "Epoch 289/400\n",
      "10/10 [==============================] - 2s 218ms/step - loss: 0.0956 - accuracy: 0.9839\n",
      "Epoch 290/400\n",
      "10/10 [==============================] - 2s 216ms/step - loss: 0.0948 - accuracy: 0.9842\n",
      "Epoch 291/400\n",
      "10/10 [==============================] - 2s 218ms/step - loss: 0.0951 - accuracy: 0.9840\n",
      "Epoch 292/400\n",
      "10/10 [==============================] - 2s 219ms/step - loss: 0.0946 - accuracy: 0.9842\n",
      "Epoch 293/400\n",
      "10/10 [==============================] - 2s 220ms/step - loss: 0.0942 - accuracy: 0.9843\n",
      "Epoch 294/400\n",
      "10/10 [==============================] - 2s 217ms/step - loss: 0.0939 - accuracy: 0.9844\n",
      "Epoch 295/400\n",
      "10/10 [==============================] - 2s 221ms/step - loss: 0.0933 - accuracy: 0.9843\n",
      "Epoch 296/400\n",
      "10/10 [==============================] - 2s 220ms/step - loss: 0.0942 - accuracy: 0.9841\n",
      "Epoch 297/400\n",
      "10/10 [==============================] - 2s 221ms/step - loss: 0.0928 - accuracy: 0.9843\n",
      "Epoch 298/400\n",
      "10/10 [==============================] - 2s 222ms/step - loss: 0.0943 - accuracy: 0.9841\n",
      "Epoch 299/400\n",
      "10/10 [==============================] - 2s 219ms/step - loss: 0.0942 - accuracy: 0.9842\n",
      "Epoch 300/400\n",
      "10/10 [==============================] - 2s 219ms/step - loss: 0.0933 - accuracy: 0.9844\n",
      "Epoch 301/400\n",
      "10/10 [==============================] - 2s 219ms/step - loss: 0.0948 - accuracy: 0.9842\n",
      "Epoch 302/400\n",
      "10/10 [==============================] - 2s 218ms/step - loss: 0.0929 - accuracy: 0.9845\n",
      "Epoch 303/400\n",
      "10/10 [==============================] - 2s 220ms/step - loss: 0.0918 - accuracy: 0.9844\n",
      "Epoch 304/400\n",
      "10/10 [==============================] - 2s 217ms/step - loss: 0.0911 - accuracy: 0.9847\n",
      "Epoch 305/400\n",
      "10/10 [==============================] - 2s 218ms/step - loss: 0.0906 - accuracy: 0.9845\n",
      "Epoch 306/400\n",
      "10/10 [==============================] - 2s 221ms/step - loss: 0.0904 - accuracy: 0.9846\n",
      "Epoch 307/400\n",
      "10/10 [==============================] - 2s 221ms/step - loss: 0.0914 - accuracy: 0.9847\n",
      "Epoch 308/400\n",
      "10/10 [==============================] - 2s 218ms/step - loss: 0.0925 - accuracy: 0.9845\n",
      "Epoch 309/400\n",
      "10/10 [==============================] - 2s 220ms/step - loss: 0.0915 - accuracy: 0.9845\n",
      "Epoch 310/400\n",
      "10/10 [==============================] - 2s 219ms/step - loss: 0.0915 - accuracy: 0.9846\n",
      "Epoch 311/400\n",
      "10/10 [==============================] - 2s 220ms/step - loss: 0.0918 - accuracy: 0.9844\n",
      "Epoch 312/400\n",
      "10/10 [==============================] - 2s 221ms/step - loss: 0.0917 - accuracy: 0.9845\n",
      "Epoch 313/400\n",
      "10/10 [==============================] - 2s 222ms/step - loss: 0.0919 - accuracy: 0.9844\n",
      "Epoch 314/400\n",
      "10/10 [==============================] - 2s 220ms/step - loss: 0.0908 - accuracy: 0.9845\n",
      "Epoch 315/400\n",
      "10/10 [==============================] - 2s 217ms/step - loss: 0.0910 - accuracy: 0.9846\n",
      "Epoch 316/400\n",
      "10/10 [==============================] - 2s 218ms/step - loss: 0.0895 - accuracy: 0.9848\n",
      "Epoch 317/400\n",
      "10/10 [==============================] - 2s 218ms/step - loss: 0.0898 - accuracy: 0.9848\n",
      "Epoch 318/400\n",
      "10/10 [==============================] - 2s 217ms/step - loss: 0.0901 - accuracy: 0.9848\n",
      "Epoch 319/400\n",
      "10/10 [==============================] - 2s 220ms/step - loss: 0.0898 - accuracy: 0.9848\n",
      "Epoch 320/400\n",
      "10/10 [==============================] - 2s 219ms/step - loss: 0.0913 - accuracy: 0.9846\n",
      "Epoch 321/400\n",
      "10/10 [==============================] - 2s 218ms/step - loss: 0.0885 - accuracy: 0.9848\n",
      "Epoch 322/400\n",
      "10/10 [==============================] - 2s 219ms/step - loss: 0.0910 - accuracy: 0.9845\n",
      "Epoch 323/400\n",
      "10/10 [==============================] - 2s 219ms/step - loss: 0.0882 - accuracy: 0.9850\n",
      "Epoch 324/400\n",
      "10/10 [==============================] - 2s 218ms/step - loss: 0.0895 - accuracy: 0.9850\n",
      "Epoch 325/400\n",
      "10/10 [==============================] - 2s 222ms/step - loss: 0.0900 - accuracy: 0.9846\n",
      "Epoch 326/400\n",
      "10/10 [==============================] - 2s 223ms/step - loss: 0.0898 - accuracy: 0.9847\n",
      "Epoch 327/400\n",
      "10/10 [==============================] - 2s 217ms/step - loss: 0.0892 - accuracy: 0.9851\n",
      "Epoch 328/400\n",
      "10/10 [==============================] - 2s 219ms/step - loss: 0.0897 - accuracy: 0.9848\n",
      "Epoch 329/400\n",
      "10/10 [==============================] - 2s 219ms/step - loss: 0.0890 - accuracy: 0.9848\n",
      "Epoch 330/400\n",
      "10/10 [==============================] - 2s 218ms/step - loss: 0.0878 - accuracy: 0.9849\n",
      "Epoch 331/400\n",
      "10/10 [==============================] - 2s 218ms/step - loss: 0.0894 - accuracy: 0.9848\n",
      "Epoch 332/400\n",
      "10/10 [==============================] - 2s 217ms/step - loss: 0.0882 - accuracy: 0.9849\n",
      "Epoch 333/400\n",
      "10/10 [==============================] - 2s 220ms/step - loss: 0.0886 - accuracy: 0.9849\n",
      "Epoch 334/400\n",
      "10/10 [==============================] - 2s 219ms/step - loss: 0.0872 - accuracy: 0.9851\n",
      "Epoch 335/400\n",
      "10/10 [==============================] - 2s 217ms/step - loss: 0.0873 - accuracy: 0.9848\n",
      "Epoch 336/400\n",
      "10/10 [==============================] - 2s 218ms/step - loss: 0.0873 - accuracy: 0.9849\n",
      "Epoch 337/400\n",
      "10/10 [==============================] - 2s 219ms/step - loss: 0.0872 - accuracy: 0.9851\n",
      "Epoch 338/400\n",
      "10/10 [==============================] - 2s 218ms/step - loss: 0.0875 - accuracy: 0.9849\n",
      "Epoch 339/400\n",
      "10/10 [==============================] - 2s 217ms/step - loss: 0.0862 - accuracy: 0.9852\n",
      "Epoch 340/400\n",
      "10/10 [==============================] - 2s 219ms/step - loss: 0.0871 - accuracy: 0.9850\n",
      "Epoch 341/400\n",
      "10/10 [==============================] - 2s 220ms/step - loss: 0.0869 - accuracy: 0.9853\n",
      "Epoch 342/400\n",
      "10/10 [==============================] - 2s 220ms/step - loss: 0.0853 - accuracy: 0.9853\n",
      "Epoch 343/400\n",
      "10/10 [==============================] - 2s 220ms/step - loss: 0.0861 - accuracy: 0.9851\n",
      "Epoch 344/400\n",
      "10/10 [==============================] - 2s 221ms/step - loss: 0.0855 - accuracy: 0.9853\n",
      "Epoch 345/400\n",
      "10/10 [==============================] - 2s 219ms/step - loss: 0.0868 - accuracy: 0.9851\n",
      "Epoch 346/400\n",
      "10/10 [==============================] - 2s 219ms/step - loss: 0.0864 - accuracy: 0.9851\n",
      "Epoch 347/400\n",
      "10/10 [==============================] - 2s 218ms/step - loss: 0.0866 - accuracy: 0.9850\n",
      "Epoch 348/400\n",
      "10/10 [==============================] - 2s 217ms/step - loss: 0.0865 - accuracy: 0.9852\n",
      "Epoch 349/400\n",
      "10/10 [==============================] - 2s 219ms/step - loss: 0.0853 - accuracy: 0.9855\n",
      "Epoch 350/400\n",
      "10/10 [==============================] - 2s 220ms/step - loss: 0.0857 - accuracy: 0.9851\n",
      "Epoch 351/400\n",
      "10/10 [==============================] - 2s 217ms/step - loss: 0.0850 - accuracy: 0.9853\n",
      "Epoch 352/400\n",
      "10/10 [==============================] - 2s 218ms/step - loss: 0.0866 - accuracy: 0.9850\n",
      "Epoch 353/400\n",
      "10/10 [==============================] - 2s 218ms/step - loss: 0.0857 - accuracy: 0.9850\n",
      "Epoch 354/400\n",
      "10/10 [==============================] - 2s 219ms/step - loss: 0.0857 - accuracy: 0.9852\n",
      "Epoch 355/400\n",
      "10/10 [==============================] - 2s 220ms/step - loss: 0.0862 - accuracy: 0.9852\n",
      "Epoch 356/400\n",
      "10/10 [==============================] - 2s 217ms/step - loss: 0.0849 - accuracy: 0.9852\n",
      "Epoch 357/400\n",
      "10/10 [==============================] - 2s 219ms/step - loss: 0.0845 - accuracy: 0.9856\n",
      "Epoch 358/400\n",
      "10/10 [==============================] - 2s 219ms/step - loss: 0.0849 - accuracy: 0.9853\n",
      "Epoch 359/400\n",
      "10/10 [==============================] - 2s 217ms/step - loss: 0.0830 - accuracy: 0.9854\n",
      "Epoch 360/400\n",
      "10/10 [==============================] - 2s 218ms/step - loss: 0.0842 - accuracy: 0.9856\n",
      "Epoch 361/400\n",
      "10/10 [==============================] - 2s 220ms/step - loss: 0.0857 - accuracy: 0.9853\n",
      "Epoch 362/400\n",
      "10/10 [==============================] - 2s 220ms/step - loss: 0.0846 - accuracy: 0.9852\n",
      "Epoch 363/400\n",
      "10/10 [==============================] - 2s 220ms/step - loss: 0.0857 - accuracy: 0.9854\n",
      "Epoch 364/400\n",
      "10/10 [==============================] - 2s 219ms/step - loss: 0.0841 - accuracy: 0.9856\n",
      "Epoch 365/400\n",
      "10/10 [==============================] - 2s 218ms/step - loss: 0.0837 - accuracy: 0.9855\n",
      "Epoch 366/400\n",
      "10/10 [==============================] - 2s 217ms/step - loss: 0.0843 - accuracy: 0.9856\n",
      "Epoch 367/400\n",
      "10/10 [==============================] - 2s 221ms/step - loss: 0.0851 - accuracy: 0.9852\n",
      "Epoch 368/400\n",
      "10/10 [==============================] - 2s 220ms/step - loss: 0.0842 - accuracy: 0.9854\n",
      "Epoch 369/400\n",
      "10/10 [==============================] - 2s 218ms/step - loss: 0.0835 - accuracy: 0.9853\n",
      "Epoch 370/400\n",
      "10/10 [==============================] - 2s 221ms/step - loss: 0.0849 - accuracy: 0.9853\n",
      "Epoch 371/400\n",
      "10/10 [==============================] - 2s 219ms/step - loss: 0.0829 - accuracy: 0.9856\n",
      "Epoch 372/400\n",
      "10/10 [==============================] - 2s 219ms/step - loss: 0.0827 - accuracy: 0.9855\n",
      "Epoch 373/400\n",
      "10/10 [==============================] - 2s 220ms/step - loss: 0.0835 - accuracy: 0.9855\n",
      "Epoch 374/400\n",
      "10/10 [==============================] - 2s 219ms/step - loss: 0.0832 - accuracy: 0.9854\n",
      "Epoch 375/400\n",
      "10/10 [==============================] - 2s 220ms/step - loss: 0.0830 - accuracy: 0.9856\n",
      "Epoch 376/400\n",
      "10/10 [==============================] - 2s 218ms/step - loss: 0.0828 - accuracy: 0.9855\n",
      "Epoch 377/400\n",
      "10/10 [==============================] - 2s 220ms/step - loss: 0.0823 - accuracy: 0.9857\n",
      "Epoch 378/400\n",
      "10/10 [==============================] - 2s 219ms/step - loss: 0.0818 - accuracy: 0.9858\n",
      "Epoch 379/400\n",
      "10/10 [==============================] - 2s 222ms/step - loss: 0.0832 - accuracy: 0.9853\n",
      "Epoch 380/400\n",
      "10/10 [==============================] - 2s 220ms/step - loss: 0.0815 - accuracy: 0.9858\n",
      "Epoch 381/400\n",
      "10/10 [==============================] - 2s 219ms/step - loss: 0.0826 - accuracy: 0.9856\n",
      "Epoch 382/400\n",
      "10/10 [==============================] - 2s 220ms/step - loss: 0.0815 - accuracy: 0.9857\n",
      "Epoch 383/400\n",
      "10/10 [==============================] - 2s 221ms/step - loss: 0.0817 - accuracy: 0.9855\n",
      "Epoch 384/400\n",
      "10/10 [==============================] - 2s 219ms/step - loss: 0.0832 - accuracy: 0.9854\n",
      "Epoch 385/400\n",
      "10/10 [==============================] - 2s 217ms/step - loss: 0.0828 - accuracy: 0.9856\n",
      "Epoch 386/400\n",
      "10/10 [==============================] - 2s 217ms/step - loss: 0.0833 - accuracy: 0.9856\n",
      "Epoch 387/400\n",
      "10/10 [==============================] - 2s 220ms/step - loss: 0.0812 - accuracy: 0.9857\n",
      "Epoch 388/400\n",
      "10/10 [==============================] - 2s 220ms/step - loss: 0.0817 - accuracy: 0.9858\n",
      "Epoch 389/400\n",
      "10/10 [==============================] - 2s 220ms/step - loss: 0.0806 - accuracy: 0.9859\n",
      "Epoch 390/400\n",
      "10/10 [==============================] - 2s 220ms/step - loss: 0.0809 - accuracy: 0.9859\n",
      "Epoch 391/400\n",
      "10/10 [==============================] - 2s 216ms/step - loss: 0.0802 - accuracy: 0.9860\n",
      "Epoch 392/400\n",
      "10/10 [==============================] - 2s 219ms/step - loss: 0.0810 - accuracy: 0.9859\n",
      "Epoch 393/400\n",
      "10/10 [==============================] - 2s 219ms/step - loss: 0.0817 - accuracy: 0.9855\n",
      "Epoch 394/400\n",
      "10/10 [==============================] - 2s 219ms/step - loss: 0.0796 - accuracy: 0.9858\n",
      "Epoch 395/400\n",
      "10/10 [==============================] - 2s 219ms/step - loss: 0.0795 - accuracy: 0.9861\n",
      "Epoch 396/400\n",
      "10/10 [==============================] - 2s 220ms/step - loss: 0.0807 - accuracy: 0.9858\n",
      "Epoch 397/400\n",
      "10/10 [==============================] - 2s 222ms/step - loss: 0.0803 - accuracy: 0.9859\n",
      "Epoch 398/400\n",
      "10/10 [==============================] - 2s 219ms/step - loss: 0.0807 - accuracy: 0.9860\n",
      "Epoch 399/400\n",
      "10/10 [==============================] - 2s 218ms/step - loss: 0.0816 - accuracy: 0.9859\n",
      "Epoch 400/400\n",
      "10/10 [==============================] - 2s 222ms/step - loss: 0.0813 - accuracy: 0.9858\n"
     ]
    }
   ],
   "source": [
    "history = model.fit(dataset.repeat(), epochs=EPOCHS, steps_per_epoch=steps_per_epoch,\n",
    "                    callbacks=[checkpoint_callback])"
   ]
  },
  {
   "cell_type": "markdown",
   "metadata": {
    "id": "JhN77x-fQS6o"
   },
   "source": [
    "## Generate text"
   ]
  },
  {
   "cell_type": "code",
   "execution_count": 37,
   "metadata": {
    "id": "FtT7Sb0QQS6p"
   },
   "outputs": [],
   "source": [
    "tf.train.latest_checkpoint(checkpoint_dir)"
   ]
  },
  {
   "cell_type": "code",
   "execution_count": null,
   "metadata": {
    "id": "e4csAhf1QS6p"
   },
   "outputs": [],
   "source": [
    "model = build_model(vocab_size, embedding_dim, rnn_units, batch_size=1)\n",
    "\n",
    "model.load_weights(tf.train.latest_checkpoint(checkpoint_dir))\n",
    "\n",
    "model.build(tf.TensorShape([1, None]))"
   ]
  },
  {
   "cell_type": "code",
   "execution_count": 1,
   "metadata": {
    "id": "jUSUj0ZGQS6q",
    "ExecuteTime": {
     "start_time": "2023-07-05T13:39:41.174396Z",
     "end_time": "2023-07-05T13:39:41.325305Z"
    }
   },
   "outputs": [],
   "source": [
    "def generate_text(model_, start_string):\n",
    "\n",
    "  num_generate = 300\n",
    "\n",
    "  input_eval = [char2idx[s] for s in start_string]\n",
    "  input_eval = tf.expand_dims(input_eval, 0)\n",
    "\n",
    "  text_generated = []\n",
    "\n",
    "  temperature = 1.0\n",
    "\n",
    "  model_.reset_states()\n",
    "  for i in range(num_generate):\n",
    "      predictions = model_(input_eval)\n",
    "\n",
    "      predictions = tf.squeeze(predictions, 0)\n",
    "\n",
    "      predictions = predictions / temperature\n",
    "      predicted_id = tf.random.categorical(predictions, num_samples=1)[-1,0].numpy()\n",
    "\n",
    "      input_eval = tf.expand_dims([predicted_id], 0)\n",
    "\n",
    "      text_generated.append(idx2char[predicted_id])\n",
    "\n",
    "  return start_string + ''.join(text_generated)"
   ]
  },
  {
   "cell_type": "code",
   "execution_count": null,
   "metadata": {
    "colab": {
     "base_uri": "https://localhost:8080/"
    },
    "outputId": "4b4c76d7-40b2-4dea-fb62-2fc4ebf65054",
    "id": "YaPj7IEHQS6q"
   },
   "outputs": [
    {
     "output_type": "stream",
     "name": "stdout",
     "text": [
      "گفتم ای سلطان خوبان رحم کن بر اين غريب\n",
      "گفت در حلقه آمد به جهان نقش خرابی دارد\n",
      "در خرابات بگوييد که هشيار کجاست\n",
      "آن کس است اهل بشارت که اشارت داند\n",
      "نکته‌ها هست بسی محرم اسرار کجاست\n",
      "هر سر موی مرا با تو هزاران کار است\n",
      "ما کجاييم و ملامت گر بی‌کار کجاست\n",
      "بازآی که بی روی تو ای شمع دل افروز\n",
      "در بزم حريفان اثر نور و صفا نيست\n",
      "تيمان غانيت ای گدايی همت\n"
     ]
    }
   ],
   "source": [
    "generate_poetry = generate_text(model, start_string=u\"گفتم ای سلطان خوبان رحم کن بر اين غريب\")\n",
    "print(generate_poetry)"
   ]
  },
  {
   "cell_type": "code",
   "execution_count": null,
   "outputs": [],
   "source": [
    "model.save('hafez.h5')"
   ],
   "metadata": {
    "collapsed": false
   }
  }
 ]
}
